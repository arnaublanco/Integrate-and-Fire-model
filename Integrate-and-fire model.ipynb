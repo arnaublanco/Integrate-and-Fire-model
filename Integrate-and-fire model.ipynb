{
 "cells": [
  {
   "cell_type": "code",
   "execution_count": 2,
   "metadata": {},
   "outputs": [],
   "source": [
    "import numpy as np\n",
    "import matplotlib.pyplot as plt\n",
    "from scipy.stats import poisson\n",
    "import random"
   ]
  },
  {
   "cell_type": "code",
   "execution_count": 3,
   "metadata": {},
   "outputs": [],
   "source": [
    "def euler(y0,t0,h,thr):\n",
    "    y_values = [] # Initialize array for the values of ys'\n",
    "    t = t0 # Initialize t(0)\n",
    "    y = y0 # Initialize y(0)\n",
    "    \n",
    "    # While y is less than a given threshold, keep calculating values\n",
    "    while y < thr:\n",
    "        t += h\n",
    "        y += h * f(t,y,y0)\n",
    "        y_values.append(y)\n",
    "    return y_values,t"
   ]
  },
  {
   "cell_type": "code",
   "execution_count": 4,
   "metadata": {},
   "outputs": [],
   "source": [
    "def f(t,v,v_rest):\n",
    "    ## Parameters ##\n",
    "    I_0 = 0.01 # Initial current [A]\n",
    "    R = 10**4 # Resistance of the membrane [Ohms]\n",
    "    tau = 0.02 # Time for neurons to spike (~20ms) [ms]\n",
    "\n",
    "    ## Diferential equation for Integrate-and-Fire ##\n",
    "    dv_dt = (-(v-v_rest)+R*I_0)/tau\n",
    "    return dv_dt"
   ]
  },
  {
   "cell_type": "code",
   "execution_count": 5,
   "metadata": {},
   "outputs": [],
   "source": [
    "def I_F(v_rest,h,thr,tf,t_ref,lmbda): \n",
    "\n",
    "    length_v = int(tf/h) # Length v_values\n",
    "    t_ref_i = int(t_ref/h) # Refractory time in indices\n",
    "    v_values = np.zeros(length_v) # Initialize array for v(t)\n",
    "\n",
    "    ## Calculation of values for the voltage ##\n",
    "    i = 0 # Initial index set to 0\n",
    "    t = 0 # Initalize time to 0\n",
    "    step = 0 # Possible spikes\n",
    "\n",
    "    while i < length_v:\n",
    "    \n",
    "        rnd_thr = random.random() # Random threshold (0 < rnd_thr < 1)\n",
    "        prob = poisson.cdf(step,mu=lmbda) # Step computed in a Poisson distribution\n",
    "        step +=1 # Update step\n",
    "\n",
    "        # If the probability exceeds the threshold, then there is a spike; if not, the neuron remains in resting state\n",
    "        if prob < rnd_thr:\n",
    "\n",
    "            # If there's enough space, the neuron is not stimulated\n",
    "            rnd_time = int(t_ref_i*4*random.random())\n",
    "            if i + rnd_time < length_v:\n",
    "                v_values[i:i+rnd_time] = v_rest # Resting voltage for t_ref seconds\n",
    "                i = i+rnd_time\n",
    "                t = i*h\n",
    "            else:\n",
    "                v_values[i:length_v] = v_rest # Fill the remaining space with resting voltage\n",
    "                break\n",
    "        else:\n",
    "            v_t,t = euler(v_rest,t,h,thr) # Call Euler's method function\n",
    "            new_i = int(round(t/h)) # New index = current time / time step\n",
    "\n",
    "            # If there's enough space, proceed with the spiking\n",
    "            if new_i + t_ref_i + 2 <= length_v:\n",
    "\n",
    "                ## Resting state ##\n",
    "                v_values[i:new_i] = v_t # Store calculated values for the voltage in v_values\n",
    "                i = new_i+1 # Current index is new index+1\n",
    "\n",
    "                ## Depolarization ##\n",
    "                v_values[i] = v_values[i-1] + 80 # Neuron reaches 40mV when spiking\n",
    "                i += 1 # Advance one index\n",
    "\n",
    "                ## Repolarization ##\n",
    "                v_values[i] = v_rest-10 # Voltage reset\n",
    "                i += 1 # Advance one index\n",
    "\n",
    "                ## Hyperpolarization ##\n",
    "                new_i = i + t_ref_i # New index is current index + refractory time in indices\n",
    "                v_values[i:new_i] = v_rest # The neuron does not do anything\n",
    "\n",
    "                i = new_i # Update index\n",
    "                t = i*h # Update time\n",
    "            else:\n",
    "                v_values[i:length_v] = v_rest # Fill the remaining space with resting voltage\n",
    "                break\n",
    "    return v_values"
   ]
  },
  {
   "cell_type": "code",
   "execution_count": 23,
   "metadata": {},
   "outputs": [
    {
     "data": {
      "text/plain": [
       "[<matplotlib.lines.Line2D at 0x7feaf1048d60>]"
      ]
     },
     "execution_count": 23,
     "metadata": {},
     "output_type": "execute_result"
    },
    {
     "data": {
      "image/png": "[encoded data removed]",
      "text/plain": [
       "<Figure size 1080x432 with 1 Axes>"
      ]
     },
     "metadata": {
      "needs_background": "light"
     },
     "output_type": "display_data"
    }
   ],
   "source": [
    "## Initialization of parameters ##\n",
    "v_rest = -70 # Resting potential (~-70mV) [mV]\n",
    "h = 0.001 # Step size [s] (we can think of it as a sampling rate)\n",
    "thr = -40 # Threshold for the spiking [mV]\n",
    "tf = 1 # End time [s]\n",
    "t_ref = 0.02 # Refractory time [s]\n",
    "lmbda = 14 # Lambda [mean]\n",
    "\n",
    "v_t = I_F(v_rest,h,thr,tf,t_ref,lmbda) # Call Integrate-n-Fire function\n",
    "\n",
    "plt.figure(figsize=(15, 6))\n",
    "plt.xlabel(\"Time (scale=\"+str(h)+\"s/sample)\")\n",
    "plt.ylabel(\"Voltage (mV)\")\n",
    "plt.plot(np.arange(0,len(v_t)),v_t)"
   ]
  }
 ],
 "metadata": {
  "kernelspec": {
   "display_name": "Python 3",
   "language": "python",
   "name": "python3"
  },
  "language_info": {
   "codemirror_mode": {
    "name": "ipython",
    "version": 3
   },
   "file_extension": ".py",
   "mimetype": "text/x-python",
   "name": "python",
   "nbconvert_exporter": "python",
   "pygments_lexer": "ipython3",
   "version": "3.9.1"
  }
 },
 "nbformat": 4,
 "nbformat_minor": 4
}
